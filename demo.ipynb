{
 "cells": [
  {
   "cell_type": "code",
   "execution_count": null,
   "metadata": {},
   "outputs": [],
   "source": [
    "import dtlpy as dl\n",
    "dl.login()"
   ]
  },
  {
   "cell_type": "markdown",
   "metadata": {},
   "source": [
    "Create a new Project"
   ]
  },
  {
   "cell_type": "code",
   "execution_count": 2,
   "metadata": {},
   "outputs": [],
   "source": [
    "try:\n",
    "    project = dl.projects.get(project_name='Export Storage Driver')\n",
    "except dl.exceptions.NotFound:\n",
    "    project = dl.projects.create(project_name='SExport Storage Driver')\n",
    "\n",
    "org = dl.organizations.get(organization_id=project.org.get('id'))"
   ]
  },
  {
   "cell_type": "markdown",
   "metadata": {},
   "source": [
    "Create a dataloop integration\n",
    "This chapter gives as an example setting up aws Access-Key integration for other integration types, please refer to the [developer docs](https://developers.dataloop.ai/tutorials/data_management)"
   ]
  },
  {
   "cell_type": "code",
   "execution_count": 3,
   "metadata": {},
   "outputs": [],
   "source": [
    "import os\n",
    "import dotenv\n",
    "\n",
    "# Create a .env file in the root directory and add the following:\n",
    "# AWS_KEY=your_access_key_id\n",
    "# AWS_SECRET=your_secret_access_key\n",
    "# AWS_REGION=your_region\n",
    "# AWS_BUCKET=your_bucket_name\n",
    "\n",
    "dotenv.load_dotenv()\n",
    "\n",
    "integration = org.integrations.create(\n",
    "    name='export-storage-driver-s3-demo',\n",
    "    integrations_type=dl.ExternalStorage.S3,\n",
    "    options={'key': os.getenv('AWS_KEY'), 'secret': os.getenv('AWS_SECRET')}\n",
    ")\n"
   ]
  },
  {
   "cell_type": "markdown",
   "metadata": {},
   "source": [
    "Create a Storage driver"
   ]
  },
  {
   "cell_type": "code",
   "execution_count": 4,
   "metadata": {},
   "outputs": [],
   "source": [
    "\n",
    "bucket_name = 'dataloop-export-storage-driver-demo'\n",
    "driver = project.drivers.create(\n",
    "    name='s3_driver',\n",
    "    driver_type=dl.ExternalStorage.S3,\n",
    "    integration_type=integration.type,\n",
    "    integration_id=integration.id,\n",
    "    bucket_name=os.getenv('AWS_BUCKET'),\n",
    "    allow_external_delete=False, # False is mandatory for this flow\n",
    "    region=os.getenv('AWS_REGION')\n",
    ")"
   ]
  },
  {
   "cell_type": "markdown",
   "metadata": {},
   "source": [
    "Create a System Dataset"
   ]
  },
  {
   "cell_type": "code",
   "execution_count": 6,
   "metadata": {},
   "outputs": [],
   "source": [
    "try: \n",
    "    filters = dl.Filters(resource=dl.FiltersResource.DATASET)\n",
    "    filters.add(field='name', values=driver.id)\n",
    "    filters.system_space = True\n",
    "    dataset = project.datasets.list(filters=filters)[0]\n",
    "except IndexError:\n",
    "    dataset = project.datasets.create(dataset_name=driver.id, driver=driver)\n",
    "    dataset.metadata['system']['scope'] = 'system'\n",
    "    dataset.update(True)"
   ]
  },
  {
   "cell_type": "markdown",
   "metadata": {},
   "source": [
    "Upload Data"
   ]
  },
  {
   "cell_type": "code",
   "execution_count": null,
   "metadata": {},
   "outputs": [],
   "source": [
    "dataset.items.upload(local_path = 'assets')"
   ]
  },
  {
   "cell_type": "markdown",
   "metadata": {},
   "source": [
    "Go to bucket and validate the images uploaded exist."
   ]
  },
  {
   "cell_type": "code",
   "execution_count": null,
   "metadata": {},
   "outputs": [],
   "source": [
    "dataset.items.delete(filters=dl.Filters())"
   ]
  },
  {
   "cell_type": "markdown",
   "metadata": {},
   "source": [
    "Go to bucket and validate the images are not deleted."
   ]
  }
 ],
 "metadata": {
  "kernelspec": {
   "display_name": "Python 3",
   "language": "python",
   "name": "python3"
  },
  "language_info": {
   "codemirror_mode": {
    "name": "ipython",
    "version": 3
   },
   "file_extension": ".py",
   "mimetype": "text/x-python",
   "name": "python",
   "nbconvert_exporter": "python",
   "pygments_lexer": "ipython3",
   "version": "3.10.10"
  }
 },
 "nbformat": 4,
 "nbformat_minor": 2
}
